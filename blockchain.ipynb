{
  "nbformat": 4,
  "nbformat_minor": 0,
  "metadata": {
    "colab": {
      "provenance": []
    },
    "kernelspec": {
      "name": "python3",
      "display_name": "Python 3"
    },
    "language_info": {
      "name": "python"
    }
  },
  "cells": [
    {
      "cell_type": "markdown",
      "source": [
        "## Practical 2 - task 2"
      ],
      "metadata": {
        "id": "VL1u7N3GA1a0"
      }
    },
    {
      "cell_type": "code",
      "source": [
        "import datetime\n",
        "import hashlib\n",
        "import json"
      ],
      "metadata": {
        "id": "JaDJVtjzzwd8"
      },
      "execution_count": null,
      "outputs": []
    },
    {
      "cell_type": "code",
      "execution_count": null,
      "metadata": {
        "id": "FJ5IqaskzbWT"
      },
      "outputs": [],
      "source": [
        "class Blockchain:\n",
        "    def __init__(self):\n",
        "        self.chain = []\n",
        "        self.transactions = []\n",
        "        self.create_block(self.get_temp_block('0'))\n",
        "\n",
        "    def create_block(self, block):\n",
        "        self.chain.append(block)\n",
        "        self.transactions = []\n",
        "        return block\n",
        "\n",
        "    def get_previous_block(self):\n",
        "        return self.chain[-1]\n",
        "\n",
        "    def hash(self, block):\n",
        "        encoded_block = json.dumps(block, sort_keys = True).encode()\n",
        "        return hash(encoded_block)\n",
        "\n",
        "    def proof_of_work(self, temp_block):\n",
        "        new_proof = 1\n",
        "        check_proof = False\n",
        "        while check_proof is False:\n",
        "            temp_block['nonce'] = new_proof\n",
        "            hash_operation = self.hash(temp_block)\n",
        "            if hash_operation.startswith('000'):\n",
        "                check_proof = True\n",
        "            else:\n",
        "                new_proof += 1\n",
        "        return temp_block\n",
        "\n",
        "    def create_transaction(self, sender, receiver, amount):\n",
        "        self.transactions.append({'sender': sender,\n",
        "                                  'receiver': receiver,\n",
        "                                  'amount': amount})\n",
        "        previous_block = self.get_previous_block() # needs to be changed\n",
        "        return \"Transaction will be added to Block \" + str(previous_block['index'] + 1)\n",
        "\n",
        "    def is_chain_valid(self, chain):\n",
        "        previous_block = chain[0]\n",
        "        block_index = 1\n",
        "        while block_index < len(chain):\n",
        "            block = chain[block_index]\n",
        "            if block['previous_hash'] != self.hash(previous_block):\n",
        "                print(block['previous_hash'])\n",
        "                print(self.hash(previous_block))\n",
        "                return False\n",
        "            if not self.hash(block).startswith('000'):\n",
        "                print(self.hash(block))\n",
        "                return False\n",
        "            previous_block = block\n",
        "            block_index += 1\n",
        "        return True\n",
        "\n",
        "    def get_temp_block(self, previous_hash):\n",
        "        block = {'index': len(self.chain) + 1,\n",
        "                 'nonce': 1,\n",
        "                 'timestamp': str(datetime.datetime.now()),\n",
        "                 'previous_hash': previous_hash,\n",
        "                 'transactions': self.transactions,\n",
        "                 'merkle_root': get_merkle_root(self.transactions)}\n",
        "\n",
        "        return block"
      ]
    },
    {
      "cell_type": "code",
      "source": [
        "# Create merkle tree\n",
        "def get_merkle_root(transactions):\n",
        "    if len(transactions) == 0:\n",
        "        return None\n",
        "\n",
        "    if len(transactions) == 1:\n",
        "        return hash(transactions[0])\n",
        "\n",
        "    # hash all transactions before building merkle tree\n",
        "    hashed_transactions = []\n",
        "    for i in range(len(transactions)):\n",
        "        hashed_transactions.append(hash(transactions[i]))\n",
        "\n",
        "    # build merkle tree\n",
        "    level = 0\n",
        "    while len(hashed_transactions) > 1:\n",
        "        if len(hashed_transactions) % 2 != 0:\n",
        "            hashed_transactions.append(hashed_transactions[-1])\n",
        "\n",
        "        new_transactions = []\n",
        "        for i in range(0, len(hashed_transactions), 2):\n",
        "            combined = hashed_transactions[i] + hashed_transactions[i+1]\n",
        "            hash_combined = hash(combined)\n",
        "            new_transactions.append(hash_combined)\n",
        "        hashed_transactions = new_transactions\n",
        "        level += 1\n",
        "\n",
        "    # return the root of the merkle tree\n",
        "    return hashed_transactions[0]"
      ],
      "metadata": {
        "id": "g4Hf9NpC-Ey2"
      },
      "execution_count": null,
      "outputs": []
    },
    {
      "cell_type": "code",
      "source": [
        "# Creating a Blockchain\n",
        "blockchain = Blockchain()"
      ],
      "metadata": {
        "id": "O1vsWi_P0FDQ"
      },
      "execution_count": null,
      "outputs": []
    },
    {
      "cell_type": "code",
      "source": [
        "# Helper function to hash\n",
        "def hash(value):\n",
        "    return hashlib.sha256(str(value).encode('utf-8')).hexdigest()"
      ],
      "metadata": {
        "id": "2eA1cTkm-z28"
      },
      "execution_count": null,
      "outputs": []
    },
    {
      "cell_type": "code",
      "source": [
        "# Mining a new block\n",
        "def mine_block():\n",
        "    if len(blockchain.transactions) > 0:\n",
        "        previous_block = blockchain.get_previous_block()\n",
        "        previous_hash = blockchain.hash(previous_block)\n",
        "        proof = blockchain.proof_of_work(blockchain.get_temp_block(previous_hash))\n",
        "        block = blockchain.create_block(proof)\n",
        "        response = {'message': 'Congratulations, you just mined a block!',\n",
        "                    'index': block['index'],\n",
        "                    'timestamp': block['timestamp'],\n",
        "                    'nonce': block['nonce'],\n",
        "                    'previous_hash': block['previous_hash']}\n",
        "    else:\n",
        "        response = {'message': 'No transactions to mine'}\n",
        "    return response"
      ],
      "metadata": {
        "id": "_r79JUgxz8nX"
      },
      "execution_count": null,
      "outputs": []
    },
    {
      "cell_type": "code",
      "source": [
        "# Getting the full Blockchain\n",
        "def get_chain():\n",
        "    response = {'chain': blockchain.chain,\n",
        "                'length': len(blockchain.chain)}\n",
        "    return response"
      ],
      "metadata": {
        "id": "CSI7qd0i0O2h"
      },
      "execution_count": null,
      "outputs": []
    },
    {
      "cell_type": "code",
      "source": [
        "# Checking if the Blockchain is valid\n",
        "def is_valid():\n",
        "    is_valid = blockchain.is_chain_valid(blockchain.chain)\n",
        "    if is_valid:\n",
        "        response = {'message': 'All good. The Blockchain is valid.'}\n",
        "    else:\n",
        "        response = {'message': 'Houston, we have a problem. The Blockchain is not valid.'}\n",
        "    return response"
      ],
      "metadata": {
        "id": "OxSP15sX0MkZ"
      },
      "execution_count": null,
      "outputs": []
    },
    {
      "cell_type": "code",
      "source": [
        "# Method to create and append transaction to blockchain\n",
        "def create_transaction():\n",
        "    sender = input(\"Enter sender: \")\n",
        "    receiver = input(\"Enter receiver: \")\n",
        "    amount = int(input(\"Enter amount: \"))\n",
        "    return blockchain.create_transaction(sender, receiver, amount)"
      ],
      "metadata": {
        "id": "hGUOCP3jBroj"
      },
      "execution_count": null,
      "outputs": []
    },
    {
      "cell_type": "code",
      "source": [
        "print(\"Functions Menu:\")\n",
        "print(\"===============\")\n",
        "print(\"1. Mine a block\")\n",
        "print(\"2. Create a transaction\")\n",
        "print(\"3. Display the chain\")\n",
        "print(\"4. Check the validity of the chain\")\n",
        "choice = int(input(\"Enter your choice: \"))\n",
        "\n",
        "if choice == 1:\n",
        "    print(mine_block())\n",
        "elif choice == 2:\n",
        "    print(create_transaction())\n",
        "elif choice == 3:\n",
        "    print(get_chain())\n",
        "elif choice == 4:\n",
        "    print(is_valid())\n",
        "else:\n",
        "    print(\"Invalid choice\")"
      ],
      "metadata": {
        "id": "mUYjAL2Ot9fG",
        "colab": {
          "base_uri": "https://localhost:8080/"
        },
        "outputId": "63b9acc6-efb9-45aa-fa47-3e9b3500f9e3"
      },
      "execution_count": null,
      "outputs": [
        {
          "output_type": "stream",
          "name": "stdout",
          "text": [
            "Functions Menu:\n",
            "===============\n",
            "1. Mine a block\n",
            "2. Create a transaction\n",
            "3. Display the chain\n",
            "4. Check the validity of the chain\n",
            "Enter your choice: 4\n",
            "{'message': 'All good. The Blockchain is valid.'}\n"
          ]
        }
      ]
    }
  ]
}