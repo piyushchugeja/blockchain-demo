{
  "nbformat": 4,
  "nbformat_minor": 0,
  "metadata": {
    "colab": {
      "provenance": []
    },
    "kernelspec": {
      "name": "python3",
      "display_name": "Python 3"
    },
    "language_info": {
      "name": "python"
    }
  },
  "cells": [
    {
      "cell_type": "markdown",
      "source": [
        "## Program 1: Python program that uses the hashlib library to create the hash of a given string"
      ],
      "metadata": {
        "id": "xt23FKbj5PGM"
      }
    },
    {
      "cell_type": "code",
      "source": [
        "import hashlib\n",
        "\n",
        "def create_hash(string):\n",
        "    hash_object = hashlib.sha256()\n",
        "    hash_object.update(string.encode('utf-8'))\n",
        "    hash_string = hash_object.hexdigest()\n",
        "    return hash_string\n",
        "\n",
        "input_string = input(\"Enter a string: \")\n",
        "hash_result = create_hash(input_string)\n",
        "print(\"Hash:\", hash_result)"
      ],
      "metadata": {
        "colab": {
          "base_uri": "https://localhost:8080/"
        },
        "id": "FTBOrZV--BNa",
        "outputId": "5cfbc75f-a17d-438e-bdac-c838dec07f57"
      },
      "execution_count": null,
      "outputs": [
        {
          "output_type": "stream",
          "name": "stdout",
          "text": [
            "Enter a string: Blockchain\n",
            "Hash: 625da44e4eaf58d61cf048d168aa6f5e492dea166d8bb54ec06c30de07db57e1\n"
          ]
        }
      ]
    },
    {
      "cell_type": "markdown",
      "source": [
        "## Program 2: Program to generate required target hash with input string and nonce"
      ],
      "metadata": {
        "id": "XvkglGqRGkAy"
      }
    },
    {
      "cell_type": "code",
      "source": [
        "import hashlib\n",
        "\n",
        "# Get user input\n",
        "input_string = input(\"Enter a string: \")\n",
        "nonce = input(\"Enter the nonce: \")\n",
        "\n",
        "# Concatenate the string and nonce\n",
        "hash_string = input_string + nonce\n",
        "\n",
        "# Calculate the hash using SHA-256\n",
        "hash_object = hashlib.sha256(hash_string.encode('utf-8'))\n",
        "hash_code = hash_object.hexdigest()\n",
        "\n",
        "# Print the hash code\n",
        "print(\"Hash Code:\", hash_code)"
      ],
      "metadata": {
        "colab": {
          "base_uri": "https://localhost:8080/"
        },
        "id": "v9lnoo1MGwfx",
        "outputId": "f7abe6dc-f7c2-4f47-d5be-7ff0d78c69a5"
      },
      "execution_count": null,
      "outputs": [
        {
          "output_type": "stream",
          "name": "stdout",
          "text": [
            "Enter a string: blockchain\n",
            "Enter the nonce: 45\n",
            "Hash Code: bf533d9a387c12fbbc6a4aef0a4cbf67d7d3c7c1dff3ea52d0ecc6604619b670\n"
          ]
        }
      ]
    },
    {
      "cell_type": "markdown",
      "source": [
        "## Program 3: Python code for Solving Puzzle for leading zeros with expected nonce and given string"
      ],
      "metadata": {
        "id": "bp9jq6hYHFKq"
      }
    },
    {
      "cell_type": "code",
      "source": [
        "import hashlib\n",
        "\n",
        "def find_nonce(input_string, num_zeros):\n",
        "    nonce = 0\n",
        "    hash_prefix = '0' * num_zeros\n",
        "\n",
        "    while True:\n",
        "        # Concatenate the string and nonce\n",
        "        hash_string = input_string + str(nonce)\n",
        "\n",
        "        # Calculate the hash using SHA-256\n",
        "        hash_object = hashlib.sha256(hash_string.encode('utf-8'))\n",
        "        hash_code = hash_object.hexdigest()\n",
        "\n",
        "        # Check if the hash code has the required number of leading zeros\n",
        "        if hash_code.startswith(hash_prefix):\n",
        "            print(\"Hash:\",hash_code )\n",
        "            return nonce\n",
        "\n",
        "        nonce += 1\n",
        "\n",
        "# Get user input\n",
        "input_string = input(\"Enter a string: \")\n",
        "num_zeros = int(input(\"Enter the number of leading zeros: \"))\n",
        "\n",
        "# Find the expected nonce\n",
        "expected_nonce = find_nonce(input_string, num_zeros)\n",
        "\n",
        "# Print the expected nonce\n",
        "print(\"Input String:\", input_string)\n",
        "print(\"Leading Zeros:\", num_zeros)\n",
        "print(\"Expected Nonce:\", expected_nonce)"
      ],
      "metadata": {
        "id": "eD_YxpMBIUgx",
        "colab": {
          "base_uri": "https://localhost:8080/"
        },
        "outputId": "39ef50d3-accf-432a-9c07-bde571f7d4b8"
      },
      "execution_count": null,
      "outputs": [
        {
          "output_type": "stream",
          "name": "stdout",
          "text": [
            "Enter a string: string\n",
            "Enter the number of leading zeros: 4\n",
            "Hash: 00002a6c6ec8c2e302e62c6c5ed26ef975e2a0d80202aa81614ebf3a32e78233\n",
            "Input String: string\n",
            "Leading Zeros: 4\n",
            "Expected Nonce: 143027\n"
          ]
        }
      ]
    },
    {
      "cell_type": "markdown",
      "source": [
        "## Program 4: Generating Merkle Tree for given set of Transactions"
      ],
      "metadata": {
        "id": "S47pVcOIOBss"
      }
    },
    {
      "cell_type": "code",
      "source": [
        "# Helper function to hash\n",
        "def hash(value):\n",
        "    return hashlib.sha256(str(value).encode('utf-8')).hexdigest()"
      ],
      "metadata": {
        "id": "rhKw4c087603"
      },
      "execution_count": null,
      "outputs": []
    },
    {
      "cell_type": "code",
      "source": [
        "import hashlib\n",
        "\n",
        "def build_merkle_tree(transactions):\n",
        "    if len(transactions) == 0:\n",
        "        return None\n",
        "\n",
        "    if len(transactions) == 1:\n",
        "        print(\"Merkle root:\", hashlib.sha256(transactions[0].encode('utf-8')).hexdigest())\n",
        "        return transactions[0]\n",
        "\n",
        "    # hash all transactions before building merkle tree\n",
        "    level = 0\n",
        "    hashed_transactions = []\n",
        "    for i in range(len(transactions)):\n",
        "        hashed_transactions.append(hash(transactions[i]))\n",
        "\n",
        "    transactions = hashed_transactions\n",
        "    level += 1\n",
        "    while len(transactions) > 1:\n",
        "        print(f\"Level {level} transactions:\", transactions)\n",
        "\n",
        "        if len(transactions) % 2 != 0:\n",
        "            transactions.append(transactions[-1])\n",
        "\n",
        "        new_transactions = []\n",
        "        for i in range(0, len(transactions), 2):\n",
        "            combined = transactions[i] + transactions[i+1]\n",
        "            hash_combined = hash(combined)\n",
        "            new_transactions.append(hash_combined)\n",
        "        transactions = new_transactions\n",
        "        level += 1\n",
        "\n",
        "    print(\"Final Merkle Root:\", transactions[0])\n",
        "    return transactions[0]\n",
        "\n",
        "transactions = [\"Piyush -> Sakshi: ₹1000\",\n",
        "                \"Sakshi -> Manraj: ₹200\",\n",
        "                \"Simran -> Piyush: ₹500\",\n",
        "                \"Piyush -> Shop: ₹1000\",\n",
        "                \"Piyush -> Simran: ₹250\"]\n",
        "merkle_root = build_merkle_tree(transactions)"
      ],
      "metadata": {
        "colab": {
          "base_uri": "https://localhost:8080/"
        },
        "id": "gBZwB4s2doE-",
        "outputId": "11d5ea04-eb3f-4380-83fa-02949f859319"
      },
      "execution_count": null,
      "outputs": [
        {
          "output_type": "stream",
          "name": "stdout",
          "text": [
            "Level 1 transactions: ['bf26de3cb645b7a54ffec7d7e5b16d34ca92a36bb190abc39c45a7e7eff9fea3', 'f4980be016bb6944a2a5a74140540082fad38e4a37393e010fe079f438142ab2', 'ac2dfb86029f16454d0358691601a65d6868f34c9b119d54c4df1d2451bfd3cf', '0d7e69125a16fa4b50245c4731e5d5a7ab5b3ec79d676f2a4c16fd858af6129e', '5a60c07b950b0695422cb5fcd68335ea01d9c3763e32877c92804d05eea7280f']\n",
            "Level 2 transactions: ['98e1b5cdcfc193b625147ea4d351270f31e7d2bbc2542d971a6fc8a6489640e7', 'd235babdf12ed12d6612430f8117f43e075f81fa41754e93487b001d8f6eca56', 'b474f1f336809f5d9713462542bc0f285f85da6f96483cd9d4fce240176d9083']\n",
            "Level 3 transactions: ['d4dd5b1bad4430bb1c78ff1e70ebf597c39ff1bba274edb1df2e6bfdef165589', '4940f08b148abbd93b696bd63f39180fa93127d57c17d28e37f58916a0a31cd7']\n",
            "Final Merkle Root: 3b60b21d47fed7e6051f277323759bc4afaf2a68893e31a53bebe72f9d75ba6c\n"
          ]
        }
      ]
    }
  ]
}